{
  "nbformat": 4,
  "nbformat_minor": 0,
  "metadata": {
    "colab": {
      "provenance": [],
      "collapsed_sections": [],
      "authorship_tag": "ABX9TyNYB8gFd+abksGQl2/vDxPn",
      "include_colab_link": true
    },
    "kernelspec": {
      "name": "python3",
      "display_name": "Python 3"
    },
    "language_info": {
      "name": "python"
    }
  },
  "cells": [
    {
      "cell_type": "markdown",
      "metadata": {
        "id": "view-in-github",
        "colab_type": "text"
      },
      "source": [
        "<a href=\"https://colab.research.google.com/github/Koks-creator/RegularCaptchaSolver/blob/main/CaptchaModel.ipynb\" target=\"_parent\"><img src=\"https://colab.research.google.com/assets/colab-badge.svg\" alt=\"Open In Colab\"/></a>"
      ]
    },
    {
      "cell_type": "code",
      "execution_count": null,
      "metadata": {
        "colab": {
          "base_uri": "https://localhost:8080/",
          "height": 1000
        },
        "id": "FqyM115A3xPQ",
        "outputId": "e8223686-e2ce-4d22-b21a-ea8f2834a243"
      },
      "outputs": [
        {
          "output_type": "stream",
          "name": "stdout",
          "text": [
            "Looking in indexes: https://pypi.org/simple, https://us-python.pkg.dev/colab-wheels/public/simple/\n",
            "Collecting keras==2.4.3\n",
            "  Downloading Keras-2.4.3-py2.py3-none-any.whl (36 kB)\n",
            "Collecting tensorflow==2.3.1\n",
            "  Downloading tensorflow-2.3.1-cp37-cp37m-manylinux2010_x86_64.whl (320.4 MB)\n",
            "\u001b[K     |████████████████████████████████| 320.4 MB 23 kB/s \n",
            "\u001b[?25hCollecting numpy==1.18.5\n",
            "  Downloading numpy-1.18.5-cp37-cp37m-manylinux1_x86_64.whl (20.1 MB)\n",
            "\u001b[K     |████████████████████████████████| 20.1 MB 1.3 MB/s \n",
            "\u001b[?25hRequirement already satisfied: pyyaml in /usr/local/lib/python3.7/dist-packages (from keras==2.4.3) (6.0)\n",
            "Requirement already satisfied: h5py in /usr/local/lib/python3.7/dist-packages (from keras==2.4.3) (3.1.0)\n",
            "Requirement already satisfied: scipy>=0.14 in /usr/local/lib/python3.7/dist-packages (from keras==2.4.3) (1.7.3)\n",
            "Requirement already satisfied: absl-py>=0.7.0 in /usr/local/lib/python3.7/dist-packages (from tensorflow==2.3.1) (1.2.0)\n",
            "Requirement already satisfied: wheel>=0.26 in /usr/local/lib/python3.7/dist-packages (from tensorflow==2.3.1) (0.37.1)\n",
            "Requirement already satisfied: grpcio>=1.8.6 in /usr/local/lib/python3.7/dist-packages (from tensorflow==2.3.1) (1.48.1)\n",
            "Requirement already satisfied: google-pasta>=0.1.8 in /usr/local/lib/python3.7/dist-packages (from tensorflow==2.3.1) (0.2.0)\n",
            "Collecting h5py\n",
            "  Downloading h5py-2.10.0-cp37-cp37m-manylinux1_x86_64.whl (2.9 MB)\n",
            "\u001b[K     |████████████████████████████████| 2.9 MB 39.6 MB/s \n",
            "\u001b[?25hRequirement already satisfied: protobuf>=3.9.2 in /usr/local/lib/python3.7/dist-packages (from tensorflow==2.3.1) (3.17.3)\n",
            "Requirement already satisfied: six>=1.12.0 in /usr/local/lib/python3.7/dist-packages (from tensorflow==2.3.1) (1.15.0)\n",
            "Requirement already satisfied: astunparse==1.6.3 in /usr/local/lib/python3.7/dist-packages (from tensorflow==2.3.1) (1.6.3)\n",
            "Collecting gast==0.3.3\n",
            "  Downloading gast-0.3.3-py2.py3-none-any.whl (9.7 kB)\n",
            "Requirement already satisfied: termcolor>=1.1.0 in /usr/local/lib/python3.7/dist-packages (from tensorflow==2.3.1) (1.1.0)\n",
            "Requirement already satisfied: tensorboard<3,>=2.3.0 in /usr/local/lib/python3.7/dist-packages (from tensorflow==2.3.1) (2.8.0)\n",
            "Requirement already satisfied: wrapt>=1.11.1 in /usr/local/lib/python3.7/dist-packages (from tensorflow==2.3.1) (1.14.1)\n",
            "Requirement already satisfied: keras-preprocessing<1.2,>=1.1.1 in /usr/local/lib/python3.7/dist-packages (from tensorflow==2.3.1) (1.1.2)\n",
            "Collecting tensorflow-estimator<2.4.0,>=2.3.0\n",
            "  Downloading tensorflow_estimator-2.3.0-py2.py3-none-any.whl (459 kB)\n",
            "\u001b[K     |████████████████████████████████| 459 kB 59.4 MB/s \n",
            "\u001b[?25hRequirement already satisfied: opt-einsum>=2.3.2 in /usr/local/lib/python3.7/dist-packages (from tensorflow==2.3.1) (3.3.0)\n",
            "Requirement already satisfied: google-auth<3,>=1.6.3 in /usr/local/lib/python3.7/dist-packages (from tensorboard<3,>=2.3.0->tensorflow==2.3.1) (1.35.0)\n",
            "Requirement already satisfied: markdown>=2.6.8 in /usr/local/lib/python3.7/dist-packages (from tensorboard<3,>=2.3.0->tensorflow==2.3.1) (3.4.1)\n",
            "Requirement already satisfied: werkzeug>=0.11.15 in /usr/local/lib/python3.7/dist-packages (from tensorboard<3,>=2.3.0->tensorflow==2.3.1) (1.0.1)\n",
            "Requirement already satisfied: google-auth-oauthlib<0.5,>=0.4.1 in /usr/local/lib/python3.7/dist-packages (from tensorboard<3,>=2.3.0->tensorflow==2.3.1) (0.4.6)\n",
            "Requirement already satisfied: tensorboard-data-server<0.7.0,>=0.6.0 in /usr/local/lib/python3.7/dist-packages (from tensorboard<3,>=2.3.0->tensorflow==2.3.1) (0.6.1)\n",
            "Requirement already satisfied: setuptools>=41.0.0 in /usr/local/lib/python3.7/dist-packages (from tensorboard<3,>=2.3.0->tensorflow==2.3.1) (57.4.0)\n",
            "Requirement already satisfied: requests<3,>=2.21.0 in /usr/local/lib/python3.7/dist-packages (from tensorboard<3,>=2.3.0->tensorflow==2.3.1) (2.23.0)\n",
            "Requirement already satisfied: tensorboard-plugin-wit>=1.6.0 in /usr/local/lib/python3.7/dist-packages (from tensorboard<3,>=2.3.0->tensorflow==2.3.1) (1.8.1)\n",
            "Requirement already satisfied: rsa<5,>=3.1.4 in /usr/local/lib/python3.7/dist-packages (from google-auth<3,>=1.6.3->tensorboard<3,>=2.3.0->tensorflow==2.3.1) (4.9)\n",
            "Requirement already satisfied: cachetools<5.0,>=2.0.0 in /usr/local/lib/python3.7/dist-packages (from google-auth<3,>=1.6.3->tensorboard<3,>=2.3.0->tensorflow==2.3.1) (4.2.4)\n",
            "Requirement already satisfied: pyasn1-modules>=0.2.1 in /usr/local/lib/python3.7/dist-packages (from google-auth<3,>=1.6.3->tensorboard<3,>=2.3.0->tensorflow==2.3.1) (0.2.8)\n",
            "Requirement already satisfied: requests-oauthlib>=0.7.0 in /usr/local/lib/python3.7/dist-packages (from google-auth-oauthlib<0.5,>=0.4.1->tensorboard<3,>=2.3.0->tensorflow==2.3.1) (1.3.1)\n",
            "Requirement already satisfied: importlib-metadata>=4.4 in /usr/local/lib/python3.7/dist-packages (from markdown>=2.6.8->tensorboard<3,>=2.3.0->tensorflow==2.3.1) (4.12.0)\n",
            "Requirement already satisfied: typing-extensions>=3.6.4 in /usr/local/lib/python3.7/dist-packages (from importlib-metadata>=4.4->markdown>=2.6.8->tensorboard<3,>=2.3.0->tensorflow==2.3.1) (4.1.1)\n",
            "Requirement already satisfied: zipp>=0.5 in /usr/local/lib/python3.7/dist-packages (from importlib-metadata>=4.4->markdown>=2.6.8->tensorboard<3,>=2.3.0->tensorflow==2.3.1) (3.8.1)\n",
            "Requirement already satisfied: pyasn1<0.5.0,>=0.4.6 in /usr/local/lib/python3.7/dist-packages (from pyasn1-modules>=0.2.1->google-auth<3,>=1.6.3->tensorboard<3,>=2.3.0->tensorflow==2.3.1) (0.4.8)\n",
            "Requirement already satisfied: certifi>=2017.4.17 in /usr/local/lib/python3.7/dist-packages (from requests<3,>=2.21.0->tensorboard<3,>=2.3.0->tensorflow==2.3.1) (2022.6.15)\n",
            "Requirement already satisfied: idna<3,>=2.5 in /usr/local/lib/python3.7/dist-packages (from requests<3,>=2.21.0->tensorboard<3,>=2.3.0->tensorflow==2.3.1) (2.10)\n",
            "Requirement already satisfied: urllib3!=1.25.0,!=1.25.1,<1.26,>=1.21.1 in /usr/local/lib/python3.7/dist-packages (from requests<3,>=2.21.0->tensorboard<3,>=2.3.0->tensorflow==2.3.1) (1.24.3)\n",
            "Requirement already satisfied: chardet<4,>=3.0.2 in /usr/local/lib/python3.7/dist-packages (from requests<3,>=2.21.0->tensorboard<3,>=2.3.0->tensorflow==2.3.1) (3.0.4)\n",
            "Requirement already satisfied: oauthlib>=3.0.0 in /usr/local/lib/python3.7/dist-packages (from requests-oauthlib>=0.7.0->google-auth-oauthlib<0.5,>=0.4.1->tensorboard<3,>=2.3.0->tensorflow==2.3.1) (3.2.0)\n",
            "Installing collected packages: numpy, tensorflow-estimator, h5py, gast, tensorflow, keras\n",
            "  Attempting uninstall: numpy\n",
            "    Found existing installation: numpy 1.21.6\n",
            "    Uninstalling numpy-1.21.6:\n",
            "      Successfully uninstalled numpy-1.21.6\n",
            "  Attempting uninstall: tensorflow-estimator\n",
            "    Found existing installation: tensorflow-estimator 2.8.0\n",
            "    Uninstalling tensorflow-estimator-2.8.0:\n",
            "      Successfully uninstalled tensorflow-estimator-2.8.0\n",
            "  Attempting uninstall: h5py\n",
            "    Found existing installation: h5py 3.1.0\n",
            "    Uninstalling h5py-3.1.0:\n",
            "      Successfully uninstalled h5py-3.1.0\n",
            "  Attempting uninstall: gast\n",
            "    Found existing installation: gast 0.5.3\n",
            "    Uninstalling gast-0.5.3:\n",
            "      Successfully uninstalled gast-0.5.3\n",
            "  Attempting uninstall: tensorflow\n",
            "    Found existing installation: tensorflow 2.8.2+zzzcolab20220719082949\n",
            "    Uninstalling tensorflow-2.8.2+zzzcolab20220719082949:\n",
            "      Successfully uninstalled tensorflow-2.8.2+zzzcolab20220719082949\n",
            "  Attempting uninstall: keras\n",
            "    Found existing installation: keras 2.8.0\n",
            "    Uninstalling keras-2.8.0:\n",
            "      Successfully uninstalled keras-2.8.0\n",
            "\u001b[31mERROR: pip's dependency resolver does not currently take into account all the packages that are installed. This behaviour is the source of the following dependency conflicts.\n",
            "xarray-einstats 0.2.2 requires numpy>=1.21, but you have numpy 1.18.5 which is incompatible.\n",
            "tables 3.7.0 requires numpy>=1.19.0, but you have numpy 1.18.5 which is incompatible.\n",
            "plotnine 0.8.0 requires numpy>=1.19.0, but you have numpy 1.18.5 which is incompatible.\n",
            "jaxlib 0.3.15+cuda11.cudnn805 requires numpy>=1.19, but you have numpy 1.18.5 which is incompatible.\n",
            "jax 0.3.17 requires numpy>=1.20, but you have numpy 1.18.5 which is incompatible.\n",
            "cmdstanpy 1.0.7 requires numpy>=1.21, but you have numpy 1.18.5 which is incompatible.\u001b[0m\n",
            "Successfully installed gast-0.3.3 h5py-2.10.0 keras-2.4.3 numpy-1.18.5 tensorflow-2.3.1 tensorflow-estimator-2.3.0\n"
          ]
        },
        {
          "output_type": "display_data",
          "data": {
            "application/vnd.colab-display-data+json": {
              "pip_warning": {
                "packages": [
                  "numpy"
                ]
              }
            }
          },
          "metadata": {}
        }
      ],
      "source": [
        "!pip install keras==2.4.3 tensorflow==2.3.1 numpy==1.18.5"
      ]
    },
    {
      "cell_type": "code",
      "source": [
        "import os\n",
        "import numpy as np\n",
        "import matplotlib.pyplot as plt\n",
        "\n",
        "from pathlib import Path\n",
        "from collections import Counter\n",
        "\n",
        "import tensorflow as tf\n",
        "from tensorflow import keras\n",
        "from tensorflow.keras import layers"
      ],
      "metadata": {
        "id": "_ByCXGIQ61zv"
      },
      "execution_count": null,
      "outputs": []
    },
    {
      "cell_type": "code",
      "source": [
        "keras.__version__"
      ],
      "metadata": {
        "id": "CpUlhE_b9Cv3",
        "colab": {
          "base_uri": "https://localhost:8080/",
          "height": 36
        },
        "outputId": "0687f7c4-88f9-4320-cf02-6c36a2cedbe0"
      },
      "execution_count": null,
      "outputs": [
        {
          "output_type": "execute_result",
          "data": {
            "text/plain": [
              "'2.4.0'"
            ],
            "application/vnd.google.colaboratory.intrinsic+json": {
              "type": "string"
            }
          },
          "metadata": {},
          "execution_count": 2
        }
      ]
    },
    {
      "cell_type": "code",
      "source": [
        "!curl -LO https://github.com/AakashKumarNain/CaptchaCracker/raw/master/captcha_images_v2.zip\n",
        "!unzip -qq captcha_images_v2.zip"
      ],
      "metadata": {
        "colab": {
          "base_uri": "https://localhost:8080/"
        },
        "id": "0mKM9nCJ7ZTP",
        "outputId": "17f71d9d-ac4d-4541-94b5-74975f60ec72"
      },
      "execution_count": null,
      "outputs": [
        {
          "output_type": "stream",
          "name": "stdout",
          "text": [
            "  % Total    % Received % Xferd  Average Speed   Time    Time     Time  Current\n",
            "                                 Dload  Upload   Total   Spent    Left  Speed\n",
            "  0     0    0     0    0     0      0      0 --:--:-- --:--:-- --:--:--     0\n",
            "100 8863k  100 8863k    0     0  6781k      0  0:00:01  0:00:01 --:--:-- 77.1M\n"
          ]
        }
      ]
    },
    {
      "cell_type": "code",
      "source": [
        "# Path to the data directory\n",
        "data_dir = Path(\"./captcha_images_v2/\")\n",
        "\n",
        "# Get list of all the images\n",
        "images = sorted(list(map(str, list(data_dir.glob(\"*.png\")))))\n",
        "labels = [img.split(os.path.sep)[-1].split(\".png\")[0] for img in images]\n",
        "characters = set(char for label in labels for char in label)\n",
        "characters = sorted(list(characters))\n",
        "\n",
        "print(\"Number of images found: \", len(images))\n",
        "print(\"Number of labels found: \", len(labels))\n",
        "print(\"Number of unique characters: \", len(characters))\n",
        "print(\"Characters present: \", characters)\n",
        "\n",
        "# Batch size for training and validation\n",
        "batch_size = 16\n",
        "\n",
        "# Desired image dimensions\n",
        "img_width = 200\n",
        "img_height = 50\n",
        "\n",
        "# Factor by which the image is going to be downsampled\n",
        "# by the convolutional blocks. We will be using two\n",
        "# convolution blocks and each block will have\n",
        "# a pooling layer which downsample the features by a factor of 2.\n",
        "# Hence total downsampling factor would be 4.\n",
        "downsample_factor = 4\n",
        "\n",
        "# Maximum length of any captcha in the dataset\n",
        "max_length = max([len(label) for label in labels])"
      ],
      "metadata": {
        "colab": {
          "base_uri": "https://localhost:8080/"
        },
        "id": "RVPP_pEI7jB9",
        "outputId": "9fc7f556-ead7-4fee-dbd8-c665f3214c14"
      },
      "execution_count": null,
      "outputs": [
        {
          "output_type": "stream",
          "name": "stdout",
          "text": [
            "Number of images found:  1040\n",
            "Number of labels found:  1040\n",
            "Number of unique characters:  19\n",
            "Characters present:  {'p', 'e', 'n', '2', 'w', '3', 'c', 'b', 'm', 'f', 'g', 'y', '6', '8', '7', '5', '4', 'd', 'x'}\n"
          ]
        }
      ]
    },
    {
      "cell_type": "markdown",
      "source": [
        "**Preprocessing data**"
      ],
      "metadata": {
        "id": "rcnPaRNFqZMN"
      }
    },
    {
      "cell_type": "code",
      "source": [
        "char_to_num = layers.experimental.preprocessing.StringLookup(\n",
        "    vocabulary=list(characters), num_oov_indices=0, mask_token=None\n",
        ")\n",
        "\n",
        "# Mapping integers back to original characters\n",
        "num_to_char = layers.experimental.preprocessing.StringLookup(\n",
        "    vocabulary=char_to_num.get_vocabulary(), mask_token=None, invert=True\n",
        ")\n",
        "\n",
        "def split_data(images, labels, train_size=0.9, shuffle=True):\n",
        "    # 1. Get the total size of the dataset\n",
        "    size = len(images)\n",
        "    # 2. Make an indices array and shuffle it, if required\n",
        "    indices = np.arange(size)\n",
        "    if shuffle:\n",
        "        np.random.shuffle(indices)\n",
        "    # 3. Get the size of training samples\n",
        "    train_samples = int(size * train_size)\n",
        "    # 4. Split data into training and validation sets\n",
        "    x_train, y_train = images[indices[:train_samples]], labels[indices[:train_samples]]\n",
        "    x_valid, y_valid = images[indices[train_samples:]], labels[indices[train_samples:]]\n",
        "    return x_train, x_valid, y_train, y_valid\n",
        "\n",
        "\n",
        "# Splitting data into training and validation sets\n",
        "x_train, x_valid, y_train, y_valid = split_data(np.array(images), np.array(labels))\n",
        "\n",
        "\n",
        "def encode_single_sample(img_path, label):\n",
        "    # 1. Read image\n",
        "    img = tf.io.read_file(img_path)\n",
        "    # 2. Decode and convert to grayscale\n",
        "    img = tf.io.decode_png(img, channels=1)\n",
        "    # 3. Convert to float32 in [0, 1] range\n",
        "    img = tf.image.convert_image_dtype(img, tf.float32)\n",
        "    # 4. Resize to the desired size\n",
        "    img = tf.image.resize(img, [img_height, img_width])\n",
        "    # 5. Transpose the image because we want the time\n",
        "    # dimension to correspond to the width of the image.\n",
        "    img = tf.transpose(img, perm=[1, 0, 2])\n",
        "    # 6. Map the characters in label to numbers\n",
        "    label = char_to_num(tf.strings.unicode_split(label, input_encoding=\"UTF-8\"))\n",
        "    # 7. Return a dict as our model is expecting two inputs\n",
        "    return {\"image\": img, \"label\": label}"
      ],
      "metadata": {
        "id": "xtEIaGyl_JiY",
        "colab": {
          "base_uri": "https://localhost:8080/"
        },
        "outputId": "1dea37b6-e57c-439c-9f83-c14a27ae3a41"
      },
      "execution_count": null,
      "outputs": [
        {
          "output_type": "stream",
          "name": "stdout",
          "text": [
            "{'p', 'e', 'n', '2', 'w', '3', 'c', 'b', 'm', 'f', 'g', 'y', '6', '8', '7', '5', '4', 'd', 'x'}\n"
          ]
        }
      ]
    },
    {
      "cell_type": "code",
      "source": [
        "characters"
      ],
      "metadata": {
        "colab": {
          "base_uri": "https://localhost:8080/"
        },
        "id": "FpfaA4KBq-HB",
        "outputId": "3909c907-4fbe-446b-c56b-64eb05388f9b"
      },
      "execution_count": null,
      "outputs": [
        {
          "output_type": "execute_result",
          "data": {
            "text/plain": [
              "{'2',\n",
              " '3',\n",
              " '4',\n",
              " '5',\n",
              " '6',\n",
              " '7',\n",
              " '8',\n",
              " 'b',\n",
              " 'c',\n",
              " 'd',\n",
              " 'e',\n",
              " 'f',\n",
              " 'g',\n",
              " 'm',\n",
              " 'n',\n",
              " 'p',\n",
              " 'w',\n",
              " 'x',\n",
              " 'y'}"
            ]
          },
          "metadata": {},
          "execution_count": 17
        }
      ]
    },
    {
      "cell_type": "code",
      "source": [
        "train_dataset = tf.data.Dataset.from_tensor_slices((x_train, y_train))\n",
        "train_dataset = (\n",
        "    train_dataset.map(\n",
        "        encode_single_sample, num_parallel_calls=tf.data.experimental.AUTOTUNE\n",
        "    )\n",
        "    .batch(batch_size)\n",
        "    .prefetch(buffer_size=tf.data.experimental.AUTOTUNE)\n",
        ")\n",
        "\n",
        "validation_dataset = tf.data.Dataset.from_tensor_slices((x_valid, y_valid))\n",
        "validation_dataset = (\n",
        "    validation_dataset.map(\n",
        "        encode_single_sample, num_parallel_calls=tf.data.experimental.AUTOTUNE\n",
        "    )\n",
        "    .batch(batch_size)\n",
        "    .prefetch(buffer_size=tf.data.experimental.AUTOTUNE)\n",
        ")"
      ],
      "metadata": {
        "id": "O8K-LjuW1S7q"
      },
      "execution_count": null,
      "outputs": []
    },
    {
      "cell_type": "code",
      "source": [
        "_, ax = plt.subplots(4, 4, figsize=(10, 5))\n",
        "for batch in train_dataset.take(1):\n",
        "    images = batch[\"image\"]\n",
        "    labels = batch[\"label\"]\n",
        "    for i in range(16):\n",
        "        img = (images[i] * 255).numpy().astype(\"uint8\")\n",
        "        label = tf.strings.reduce_join(num_to_char(labels[i])).numpy().decode(\"utf-8\")\n",
        "        ax[i // 4, i % 4].imshow(img[:, :, 0].T, cmap=\"gray\")\n",
        "        ax[i // 4, i % 4].set_title(label)\n",
        "        ax[i // 4, i % 4].axis(\"off\")\n",
        "plt.show()"
      ],
      "metadata": {
        "colab": {
          "base_uri": "https://localhost:8080/",
          "height": 290
        },
        "id": "sbP8kU0K4Aa0",
        "outputId": "7e95d29e-724e-47c6-aa5c-fa55e53de266"
      },
      "execution_count": null,
      "outputs": [
        {
          "output_type": "display_data",
          "data": {
            "text/plain": [
              "<Figure size 720x360 with 16 Axes>"
            ],
            "image/png": "[encoded data removed]"
          },
          "metadata": {
            "needs_background": "light"
          }
        }
      ]
    },
    {
      "cell_type": "markdown",
      "source": [
        "**Building OCR model**"
      ],
      "metadata": {
        "id": "fzHYKTQ-HTih"
      }
    },
    {
      "cell_type": "code",
      "source": [
        "class CTCLayer(layers.Layer):\n",
        "    def __init__(self, name=None):\n",
        "        super().__init__(name=name)\n",
        "        self.loss_fn = keras.backend.ctc_batch_cost\n",
        "    \n",
        "    def call(self, y_true, y_pred):\n",
        "        # Compute the training-time loss value and add it\n",
        "        # to the layer using `self.add_loss()`.\n",
        "        batch_len = tf.cast(tf.shape(y_true)[0], dtype=\"int64\")\n",
        "        input_length = tf.cast(tf.shape(y_pred)[1], dtype=\"int64\")\n",
        "        label_length = tf.cast(tf.shape(y_true)[1], dtype=\"int64\")\n",
        "\n",
        "        input_length = input_length * tf.ones(shape=(batch_len, 1), dtype=\"int64\")\n",
        "        label_length = label_length * tf.ones(shape=(batch_len, 1), dtype=\"int64\")\n",
        "\n",
        "        loss = self.loss_fn(y_true, y_pred, input_length, label_length)\n",
        "        self.add_loss(loss)\n",
        "\n",
        "        # At test time, just return the computed predictions\n",
        "        return y_pred\n",
        "\n",
        "\n",
        "def build_model():\n",
        "    # Inputs to the model\n",
        "    input_img = layers.Input(shape=(img_width, img_height, 1), name=\"image\", dtype=\"float32\")\n",
        "    labels = layers.Input(name=\"label\", shape=(None,), dtype=\"float32\")\n",
        "\n",
        "    x = layers.Conv2D(32, (3, 3),  activation=\"relu\", kernel_initializer=\"he_normal\", padding=\"same\", name=\"Conv1\")(input_img)\n",
        "    x = layers.MaxPooling2D((2, 2), name=\"pool1\")(x)\n",
        "    x = layers.Conv2D(64, (3, 3),  activation=\"relu\", kernel_initializer=\"he_normal\", padding=\"same\", name=\"Conv2\")(x)\n",
        "    x = layers.MaxPooling2D((2, 2), name=\"pool2\")(x)\n",
        "\n",
        "    # We have used two max pool with pool size and strides 2.\n",
        "    # Hence, downsampled feature maps are 4x smaller. The number of\n",
        "    # filters in the last layer is 64. Reshape accordingly before\n",
        "    # passing the output to the RNN part of the model\n",
        "    new_shape = ((img_width // 4), (img_height // 4) * 64)\n",
        "    x = layers.Reshape(target_shape=new_shape, name=\"reshape\")(x)\n",
        "    x = layers.Dense(64, activation=\"relu\", name=\"dense1\")(x)\n",
        "    x = layers.Dropout(0.2)(x)\n",
        "\n",
        "    # RNNs\n",
        "    x = layers.Bidirectional(layers.LSTM(128, return_sequences=True, dropout=0.25))(x)\n",
        "    x = layers.Bidirectional(layers.LSTM(64, return_sequences=True, dropout=0.25))(x)\n",
        "\n",
        "    # Output layer\n",
        "    x = layers.Dense(len(characters) + 1, activation=\"softmax\", name=\"dense2\")(x)\n",
        "\n",
        "    # Add CTC layer for calculating CTC loss at each step\n",
        "    output = CTCLayer(name=\"ctc_loss\")(labels, x)\n",
        "\n",
        "    model = keras.models.Model(inputs=[input_img, labels], outputs=output, name=\"ocr_model_v1\")\n",
        "    opt = keras.optimizers.Adam()\n",
        "\n",
        "    model.compile(optimizer=opt)\n",
        "    return model\n",
        "\n",
        "\n"
      ],
      "metadata": {
        "id": "f3Fu8sca6MaN"
      },
      "execution_count": null,
      "outputs": []
    },
    {
      "cell_type": "code",
      "source": [
        "model = build_model()\n",
        "model.summary()"
      ],
      "metadata": {
        "colab": {
          "base_uri": "https://localhost:8080/"
        },
        "id": "3FRrFMTjStHK",
        "outputId": "6d2ff80c-9133-42ec-9b66-6784375511ee"
      },
      "execution_count": null,
      "outputs": [
        {
          "output_type": "stream",
          "name": "stdout",
          "text": [
            "Model: \"ocr_model_v1\"\n",
            "__________________________________________________________________________________________________\n",
            "Layer (type)                    Output Shape         Param #     Connected to                     \n",
            "==================================================================================================\n",
            "image (InputLayer)              [(None, 200, 50, 1)] 0                                            \n",
            "__________________________________________________________________________________________________\n",
            "Conv1 (Conv2D)                  (None, 200, 50, 32)  320         image[0][0]                      \n",
            "__________________________________________________________________________________________________\n",
            "pool1 (MaxPooling2D)            (None, 100, 25, 32)  0           Conv1[0][0]                      \n",
            "__________________________________________________________________________________________________\n",
            "Conv2 (Conv2D)                  (None, 100, 25, 64)  18496       pool1[0][0]                      \n",
            "__________________________________________________________________________________________________\n",
            "pool2 (MaxPooling2D)            (None, 50, 12, 64)   0           Conv2[0][0]                      \n",
            "__________________________________________________________________________________________________\n",
            "reshape (Reshape)               (None, 50, 768)      0           pool2[0][0]                      \n",
            "__________________________________________________________________________________________________\n",
            "dense1 (Dense)                  (None, 50, 64)       49216       reshape[0][0]                    \n",
            "__________________________________________________________________________________________________\n",
            "dropout (Dropout)               (None, 50, 64)       0           dense1[0][0]                     \n",
            "__________________________________________________________________________________________________\n",
            "bidirectional (Bidirectional)   (None, 50, 256)      197632      dropout[0][0]                    \n",
            "__________________________________________________________________________________________________\n",
            "bidirectional_1 (Bidirectional) (None, 50, 128)      164352      bidirectional[0][0]              \n",
            "__________________________________________________________________________________________________\n",
            "label (InputLayer)              [(None, None)]       0                                            \n",
            "__________________________________________________________________________________________________\n",
            "dense2 (Dense)                  (None, 50, 20)       2580        bidirectional_1[0][0]            \n",
            "__________________________________________________________________________________________________\n",
            "ctc_loss (CTCLayer)             (None, 50, 20)       0           label[0][0]                      \n",
            "                                                                 dense2[0][0]                     \n",
            "==================================================================================================\n",
            "Total params: 432,596\n",
            "Trainable params: 432,596\n",
            "Non-trainable params: 0\n",
            "__________________________________________________________________________________________________\n"
          ]
        }
      ]
    },
    {
      "cell_type": "markdown",
      "source": [
        "**Train the Neural Network**"
      ],
      "metadata": {
        "id": "tzjDUELwHgoa"
      }
    },
    {
      "cell_type": "code",
      "source": [
        "epochs = 100\n",
        "early_stopping_patience = 10\n",
        "\n",
        "early_stopping = keras.callbacks.EarlyStopping(monitor=\"val_loss\", patience=early_stopping_patience, restore_best_weights=True)\n",
        "\n",
        "history = model.fit(\n",
        "    train_dataset,\n",
        "    validation_data=validation_dataset,\n",
        "    epochs=epochs,\n",
        "    callbacks=[early_stopping],\n",
        "    verbose=1\n",
        ")"
      ],
      "metadata": {
        "colab": {
          "base_uri": "https://localhost:8080/"
        },
        "id": "rZ_mALU5TCVU",
        "outputId": "b0a3eed1-43a0-41cd-f617-4f92f10970d0"
      },
      "execution_count": null,
      "outputs": [
        {
          "output_type": "stream",
          "name": "stdout",
          "text": [
            "Epoch 1/100\n",
            "59/59 [==============================] - 18s 308ms/step - loss: 21.0172 - val_loss: 16.4531\n",
            "Epoch 2/100\n",
            "59/59 [==============================] - 17s 281ms/step - loss: 16.3412 - val_loss: 16.4278\n",
            "Epoch 3/100\n",
            "59/59 [==============================] - 16s 278ms/step - loss: 16.3393 - val_loss: 16.4294\n",
            "Epoch 4/100\n",
            "59/59 [==============================] - 21s 351ms/step - loss: 16.3358 - val_loss: 16.4356\n",
            "Epoch 5/100\n",
            "59/59 [==============================] - 19s 322ms/step - loss: 16.3299 - val_loss: 16.4190\n",
            "Epoch 6/100\n",
            "59/59 [==============================] - 17s 282ms/step - loss: 16.3290 - val_loss: 16.4111\n",
            "Epoch 7/100\n",
            "59/59 [==============================] - 17s 282ms/step - loss: 16.3183 - val_loss: 16.3930\n",
            "Epoch 8/100\n",
            "59/59 [==============================] - 18s 306ms/step - loss: 16.2988 - val_loss: 16.3629\n",
            "Epoch 9/100\n",
            "59/59 [==============================] - 17s 283ms/step - loss: 16.2753 - val_loss: 16.3235\n",
            "Epoch 10/100\n",
            "59/59 [==============================] - 18s 305ms/step - loss: 16.2373 - val_loss: 16.2874\n",
            "Epoch 11/100\n",
            "59/59 [==============================] - 17s 283ms/step - loss: 16.1349 - val_loss: 16.2400\n",
            "Epoch 12/100\n",
            "59/59 [==============================] - 17s 285ms/step - loss: 15.8886 - val_loss: 15.9331\n",
            "Epoch 13/100\n",
            "59/59 [==============================] - 17s 283ms/step - loss: 15.4384 - val_loss: 15.4738\n",
            "Epoch 14/100\n",
            "59/59 [==============================] - 18s 306ms/step - loss: 15.0133 - val_loss: 15.1044\n",
            "Epoch 15/100\n",
            "59/59 [==============================] - 17s 281ms/step - loss: 14.6535 - val_loss: 14.7533\n",
            "Epoch 16/100\n",
            "59/59 [==============================] - 17s 285ms/step - loss: 14.3983 - val_loss: 14.5492\n",
            "Epoch 17/100\n",
            "59/59 [==============================] - 16s 279ms/step - loss: 14.1538 - val_loss: 14.4059\n",
            "Epoch 18/100\n",
            "59/59 [==============================] - 17s 280ms/step - loss: 13.9431 - val_loss: 14.0227\n",
            "Epoch 19/100\n",
            "59/59 [==============================] - 17s 280ms/step - loss: 13.7253 - val_loss: 14.0984\n",
            "Epoch 20/100\n",
            "59/59 [==============================] - 16s 279ms/step - loss: 13.3889 - val_loss: 13.5635\n",
            "Epoch 21/100\n",
            "59/59 [==============================] - 17s 281ms/step - loss: 13.2604 - val_loss: 13.4250\n",
            "Epoch 22/100\n",
            "59/59 [==============================] - 17s 293ms/step - loss: 12.8585 - val_loss: 12.9258\n",
            "Epoch 23/100\n",
            "59/59 [==============================] - 17s 291ms/step - loss: 12.2849 - val_loss: 12.0716\n",
            "Epoch 24/100\n",
            "59/59 [==============================] - 17s 291ms/step - loss: 11.6191 - val_loss: 11.4755\n",
            "Epoch 25/100\n",
            "59/59 [==============================] - 19s 316ms/step - loss: 10.9759 - val_loss: 10.8655\n",
            "Epoch 26/100\n",
            "59/59 [==============================] - 17s 284ms/step - loss: 10.4456 - val_loss: 10.3567\n",
            "Epoch 27/100\n",
            "59/59 [==============================] - 16s 278ms/step - loss: 9.8096 - val_loss: 9.9376\n",
            "Epoch 28/100\n",
            "59/59 [==============================] - 16s 279ms/step - loss: 9.2849 - val_loss: 9.3925\n",
            "Epoch 29/100\n",
            "59/59 [==============================] - 16s 278ms/step - loss: 8.6655 - val_loss: 8.7659\n",
            "Epoch 30/100\n",
            "59/59 [==============================] - 17s 282ms/step - loss: 8.1715 - val_loss: 8.1668\n",
            "Epoch 31/100\n",
            "59/59 [==============================] - 16s 275ms/step - loss: 7.5966 - val_loss: 7.7844\n",
            "Epoch 32/100\n",
            "59/59 [==============================] - 16s 278ms/step - loss: 6.9846 - val_loss: 7.1722\n",
            "Epoch 33/100\n",
            "59/59 [==============================] - 17s 283ms/step - loss: 6.4817 - val_loss: 6.6908\n",
            "Epoch 34/100\n",
            "59/59 [==============================] - 18s 300ms/step - loss: 5.9425 - val_loss: 6.0925\n",
            "Epoch 35/100\n",
            "59/59 [==============================] - 17s 291ms/step - loss: 5.4273 - val_loss: 5.8653\n",
            "Epoch 36/100\n",
            "59/59 [==============================] - 17s 289ms/step - loss: 5.0772 - val_loss: 5.3469\n",
            "Epoch 37/100\n",
            "59/59 [==============================] - 16s 276ms/step - loss: 4.5423 - val_loss: 5.0500\n",
            "Epoch 38/100\n",
            "59/59 [==============================] - 16s 273ms/step - loss: 4.1629 - val_loss: 4.6831\n",
            "Epoch 39/100\n",
            "59/59 [==============================] - 16s 275ms/step - loss: 3.8903 - val_loss: 4.7594\n",
            "Epoch 40/100\n",
            "59/59 [==============================] - 17s 282ms/step - loss: 3.5026 - val_loss: 4.2740\n",
            "Epoch 41/100\n",
            "59/59 [==============================] - 16s 279ms/step - loss: 3.2634 - val_loss: 4.1605\n",
            "Epoch 42/100\n",
            "59/59 [==============================] - 17s 280ms/step - loss: 3.0537 - val_loss: 3.8274\n",
            "Epoch 43/100\n",
            "59/59 [==============================] - 18s 310ms/step - loss: 2.8582 - val_loss: 3.8798\n",
            "Epoch 44/100\n",
            "59/59 [==============================] - 17s 280ms/step - loss: 2.6475 - val_loss: 3.5522\n",
            "Epoch 45/100\n",
            "59/59 [==============================] - 16s 277ms/step - loss: 2.4548 - val_loss: 3.4590\n",
            "Epoch 46/100\n",
            "59/59 [==============================] - 18s 304ms/step - loss: 2.2482 - val_loss: 3.3974\n",
            "Epoch 47/100\n",
            "59/59 [==============================] - 17s 280ms/step - loss: 2.1625 - val_loss: 3.4533\n",
            "Epoch 48/100\n",
            "59/59 [==============================] - 16s 277ms/step - loss: 2.0115 - val_loss: 3.0614\n",
            "Epoch 49/100\n",
            "59/59 [==============================] - 17s 280ms/step - loss: 1.9008 - val_loss: 3.0232\n",
            "Epoch 50/100\n",
            "59/59 [==============================] - 17s 283ms/step - loss: 1.7994 - val_loss: 3.1084\n",
            "Epoch 51/100\n",
            "59/59 [==============================] - 17s 284ms/step - loss: 1.6382 - val_loss: 2.9487\n",
            "Epoch 52/100\n",
            "59/59 [==============================] - 17s 284ms/step - loss: 1.5338 - val_loss: 2.8736\n",
            "Epoch 53/100\n",
            "59/59 [==============================] - 16s 277ms/step - loss: 1.4495 - val_loss: 2.7521\n",
            "Epoch 54/100\n",
            "59/59 [==============================] - 17s 281ms/step - loss: 1.2947 - val_loss: 2.8409\n",
            "Epoch 55/100\n",
            "59/59 [==============================] - 16s 277ms/step - loss: 1.2574 - val_loss: 2.6771\n",
            "Epoch 56/100\n",
            "59/59 [==============================] - 16s 277ms/step - loss: 1.2420 - val_loss: 2.6056\n",
            "Epoch 57/100\n",
            "59/59 [==============================] - 18s 301ms/step - loss: 1.0926 - val_loss: 2.6090\n",
            "Epoch 58/100\n",
            "59/59 [==============================] - 17s 280ms/step - loss: 1.0607 - val_loss: 2.4786\n",
            "Epoch 59/100\n",
            "59/59 [==============================] - 16s 275ms/step - loss: 0.9646 - val_loss: 2.6590\n",
            "Epoch 60/100\n",
            "59/59 [==============================] - 17s 280ms/step - loss: 1.0117 - val_loss: 2.4234\n",
            "Epoch 61/100\n",
            "59/59 [==============================] - 17s 288ms/step - loss: 0.8781 - val_loss: 2.5252\n",
            "Epoch 62/100\n",
            "59/59 [==============================] - 17s 288ms/step - loss: 0.8692 - val_loss: 2.3343\n",
            "Epoch 63/100\n",
            "59/59 [==============================] - 17s 281ms/step - loss: 0.7892 - val_loss: 2.2013\n",
            "Epoch 64/100\n",
            "59/59 [==============================] - 17s 289ms/step - loss: 0.7545 - val_loss: 2.3549\n",
            "Epoch 65/100\n",
            "59/59 [==============================] - 17s 296ms/step - loss: 0.7233 - val_loss: 2.4046\n",
            "Epoch 66/100\n",
            "59/59 [==============================] - 17s 280ms/step - loss: 0.7011 - val_loss: 2.3167\n",
            "Epoch 67/100\n",
            "59/59 [==============================] - 18s 307ms/step - loss: 0.6434 - val_loss: 2.3006\n",
            "Epoch 68/100\n",
            "59/59 [==============================] - 16s 278ms/step - loss: 0.5614 - val_loss: 2.3892\n",
            "Epoch 69/100\n",
            "59/59 [==============================] - 17s 285ms/step - loss: 0.5670 - val_loss: 2.1770\n",
            "Epoch 70/100\n",
            "59/59 [==============================] - 16s 275ms/step - loss: 0.5335 - val_loss: 2.3551\n",
            "Epoch 71/100\n",
            "59/59 [==============================] - 16s 276ms/step - loss: 0.5262 - val_loss: 2.1511\n",
            "Epoch 72/100\n",
            "59/59 [==============================] - 17s 283ms/step - loss: 0.5088 - val_loss: 2.3175\n",
            "Epoch 73/100\n",
            "59/59 [==============================] - 16s 279ms/step - loss: 0.4892 - val_loss: 2.2303\n",
            "Epoch 74/100\n",
            "59/59 [==============================] - 16s 278ms/step - loss: 0.4387 - val_loss: 2.1430\n",
            "Epoch 75/100\n",
            "59/59 [==============================] - 17s 285ms/step - loss: 0.4595 - val_loss: 2.3705\n",
            "Epoch 76/100\n",
            "59/59 [==============================] - 17s 282ms/step - loss: 0.3946 - val_loss: 2.2569\n",
            "Epoch 77/100\n",
            "59/59 [==============================] - 16s 279ms/step - loss: 0.3948 - val_loss: 2.2262\n",
            "Epoch 78/100\n",
            "59/59 [==============================] - 18s 307ms/step - loss: 0.3736 - val_loss: 2.1345\n",
            "Epoch 79/100\n",
            "59/59 [==============================] - 17s 287ms/step - loss: 0.3491 - val_loss: 2.2081\n",
            "Epoch 80/100\n",
            "59/59 [==============================] - 17s 291ms/step - loss: 0.3628 - val_loss: 2.1552\n",
            "Epoch 81/100\n",
            "59/59 [==============================] - 17s 282ms/step - loss: 0.3815 - val_loss: 2.0984\n",
            "Epoch 82/100\n",
            "59/59 [==============================] - 17s 284ms/step - loss: 0.2991 - val_loss: 2.0587\n",
            "Epoch 83/100\n",
            "59/59 [==============================] - 17s 287ms/step - loss: 0.2992 - val_loss: 2.1755\n",
            "Epoch 84/100\n",
            "59/59 [==============================] - 17s 285ms/step - loss: 0.3197 - val_loss: 2.3335\n",
            "Epoch 85/100\n",
            "59/59 [==============================] - 17s 294ms/step - loss: 0.3020 - val_loss: 2.1425\n",
            "Epoch 86/100\n",
            "59/59 [==============================] - 17s 293ms/step - loss: 0.2670 - val_loss: 2.2142\n",
            "Epoch 87/100\n",
            "59/59 [==============================] - 17s 281ms/step - loss: 0.2952 - val_loss: 2.0599\n",
            "Epoch 88/100\n",
            "59/59 [==============================] - 18s 307ms/step - loss: 0.2439 - val_loss: 2.0876\n",
            "Epoch 89/100\n",
            "59/59 [==============================] - 16s 276ms/step - loss: 0.2521 - val_loss: 2.0969\n",
            "Epoch 90/100\n",
            "59/59 [==============================] - 16s 276ms/step - loss: 0.2426 - val_loss: 2.1976\n",
            "Epoch 91/100\n",
            "59/59 [==============================] - 16s 279ms/step - loss: 0.2528 - val_loss: 2.0844\n",
            "Epoch 92/100\n",
            "59/59 [==============================] - 17s 280ms/step - loss: 0.2707 - val_loss: 2.0266\n",
            "Epoch 93/100\n",
            "59/59 [==============================] - 16s 280ms/step - loss: 0.2665 - val_loss: 2.1797\n",
            "Epoch 94/100\n",
            "59/59 [==============================] - 16s 279ms/step - loss: 0.2856 - val_loss: 2.2269\n",
            "Epoch 95/100\n",
            "59/59 [==============================] - 17s 283ms/step - loss: 0.3097 - val_loss: 2.2053\n",
            "Epoch 96/100\n",
            "59/59 [==============================] - 17s 284ms/step - loss: 0.2687 - val_loss: 2.3461\n",
            "Epoch 97/100\n",
            "59/59 [==============================] - 17s 290ms/step - loss: 0.2391 - val_loss: 2.2706\n",
            "Epoch 98/100\n",
            "59/59 [==============================] - 17s 286ms/step - loss: 0.1942 - val_loss: 2.1249\n",
            "Epoch 99/100\n",
            "59/59 [==============================] - 19s 324ms/step - loss: 0.1700 - val_loss: 2.0235\n",
            "Epoch 100/100\n",
            "59/59 [==============================] - 17s 290ms/step - loss: 0.1673 - val_loss: 2.0315\n"
          ]
        }
      ]
    },
    {
      "cell_type": "code",
      "source": [
        "plt.plot(history.history['loss'])\n",
        "plt.plot(history.history['val_loss'])\n",
        "plt.xticks(range(0, epochs+1, 10))\n",
        "plt.title(\"OCR Model\")\n",
        "plt.ylabel(\"Loss\")\n",
        "plt.xlabel(\"Epoch\")\n",
        "plt.legend(['Training', 'Validation'], loc='upper right')\n",
        "plt.show()"
      ],
      "metadata": {
        "colab": {
          "base_uri": "https://localhost:8080/",
          "height": 295
        },
        "id": "fn3zMRCRF0xl",
        "outputId": "01b44ea5-74db-44de-d695-178c21e6b33b"
      },
      "execution_count": null,
      "outputs": [
        {
          "output_type": "display_data",
          "data": {
            "text/plain": [
              "<Figure size 432x288 with 1 Axes>"
            ],
            "image/png": "[encoded data removed]"
          },
          "metadata": {
            "needs_background": "light"
          }
        }
      ]
    },
    {
      "cell_type": "code",
      "source": [
        "# Get the prediction model by extracting layers till the output layer\n",
        "prediction_model = keras.models.Model(\n",
        "    model.get_layer(name=\"image\").input, model.get_layer(name=\"dense2\").output\n",
        ")\n",
        "prediction_model.summary()\n",
        "\n",
        "# A utility function to decode the output of the network\n",
        "def decode_batch_predictions(pred):\n",
        "    input_len = np.ones(pred.shape[0]) * pred.shape[1]\n",
        "    # Use greedy search. For complex tasks, you can use beam search\n",
        "    results = keras.backend.ctc_decode(pred, input_length=input_len, greedy=True)[0][0][\n",
        "        :, :max_length\n",
        "    ]\n",
        "    # Iterate over the results and get back the text\n",
        "    output_text = []\n",
        "    for res in results:\n",
        "        res = tf.strings.reduce_join(num_to_char(res)).numpy().decode(\"utf-8\")\n",
        "        output_text.append(res)\n",
        "    return output_text\n",
        "\n",
        "\n",
        "#  Let's check results on some validation samples\n",
        "for batch in validation_dataset.take(1):\n",
        "    batch_images = batch[\"image\"]\n",
        "    batch_labels = batch[\"label\"]\n",
        "\n",
        "    preds = prediction_model.predict(batch_images)\n",
        "    pred_texts = decode_batch_predictions(preds)\n",
        "\n",
        "    orig_texts = []\n",
        "    for label in batch_labels:\n",
        "        label = tf.strings.reduce_join(num_to_char(label)).numpy().decode(\"utf-8\")\n",
        "        orig_texts.append(label)\n",
        "\n",
        "    _, ax = plt.subplots(4, 4, figsize=(15, 5))\n",
        "    for i in range(len(pred_texts)):\n",
        "        img = (batch_images[i, :, :, 0] * 255).numpy().astype(np.uint8)\n",
        "        img = img.T\n",
        "        title = f\"Prediction: {pred_texts[i]}\"\n",
        "        ax[i // 4, i % 4].imshow(img, cmap=\"gray\")\n",
        "        ax[i // 4, i % 4].set_title(title)\n",
        "        ax[i // 4, i % 4].axis(\"off\")\n",
        "plt.show()"
      ],
      "metadata": {
        "id": "vUJLpD2X-CXf"
      },
      "execution_count": null,
      "outputs": []
    },
    {
      "cell_type": "code",
      "source": [
        "saving_model = keras.models.Model(model.get_layer(name=\"image\").input, model.get_layer(name=\"dense2\").output\n",
        ")\n",
        "saving_model.summary()\n",
        "saving_model.save(\"model_tf\")\n"
      ],
      "metadata": {
        "colab": {
          "base_uri": "https://localhost:8080/",
          "height": 217
        },
        "id": "4nEns_uh-OC9",
        "outputId": "ed5b763c-2339-409f-cc06-6c4b07b4551a"
      },
      "execution_count": null,
      "outputs": [
        {
          "output_type": "error",
          "ename": "NameError",
          "evalue": "ignored",
          "traceback": [
            "\u001b[0;31m---------------------------------------------------------------------------\u001b[0m",
            "\u001b[0;31mNameError\u001b[0m                                 Traceback (most recent call last)",
            "\u001b[0;32m<ipython-input-1-045a39c0e87b>\u001b[0m in \u001b[0;36m<module>\u001b[0;34m\u001b[0m\n\u001b[0;32m----> 1\u001b[0;31m saving_model = keras.models.Model(model.get_layer(name=\"image\").input, model.get_layer(name=\"dense2\").output\n\u001b[0m\u001b[1;32m      2\u001b[0m )\n\u001b[1;32m      3\u001b[0m \u001b[0msaving_model\u001b[0m\u001b[0;34m.\u001b[0m\u001b[0msummary\u001b[0m\u001b[0;34m(\u001b[0m\u001b[0;34m)\u001b[0m\u001b[0;34m\u001b[0m\u001b[0;34m\u001b[0m\u001b[0m\n\u001b[1;32m      4\u001b[0m \u001b[0msaving_model\u001b[0m\u001b[0;34m.\u001b[0m\u001b[0msave\u001b[0m\u001b[0;34m(\u001b[0m\u001b[0;34m\"model_tf\"\u001b[0m\u001b[0;34m)\u001b[0m\u001b[0;34m\u001b[0m\u001b[0;34m\u001b[0m\u001b[0m\n",
            "\u001b[0;31mNameError\u001b[0m: name 'keras' is not defined"
          ]
        }
      ]
    },
    {
      "cell_type": "code",
      "source": [
        "!zip -r file.zip /content/model_tf"
      ],
      "metadata": {
        "id": "i3vAvGW0_nIG"
      },
      "execution_count": null,
      "outputs": []
    }
  ]
}